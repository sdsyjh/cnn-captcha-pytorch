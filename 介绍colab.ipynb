{
  "nbformat": 4,
  "nbformat_minor": 0,
  "metadata": {
    "colab": {
      "provenance": [],
      "gpuType": "T4",
      "authorship_tag": "ABX9TyOqX1El/2cubzEjNOY0AASb",
      "include_colab_link": true
    },
    "kernelspec": {
      "name": "python3",
      "display_name": "Python 3"
    },
    "language_info": {
      "name": "python"
    },
    "accelerator": "GPU"
  },
  "cells": [
    {
      "cell_type": "markdown",
      "metadata": {
        "id": "view-in-github",
        "colab_type": "text"
      },
      "source": [
        "<a href=\"https://colab.research.google.com/github/sdsyjh/cnn-captcha-pytorch/blob/main/%E4%BB%8B%E7%BB%8Dcolab.ipynb\" target=\"_parent\"><img src=\"https://colab.research.google.com/assets/colab-badge.svg\" alt=\"Open In Colab\"/></a>"
      ]
    },
    {
      "cell_type": "code",
      "execution_count": 1,
      "metadata": {
        "id": "VqJ4ax7xC8Nk"
      },
      "outputs": [],
      "source": [
        "x = 10\n",
        "y = 20\n",
        "z = x + y"
      ]
    },
    {
      "cell_type": "code",
      "source": [
        "print(f\"z={z}\")"
      ],
      "metadata": {
        "colab": {
          "base_uri": "https://localhost:8080/"
        },
        "id": "BkbUrnNaFiNP",
        "outputId": "f11553f6-93ea-4f3a-8d12-474a45460644"
      },
      "execution_count": 2,
      "outputs": [
        {
          "output_type": "stream",
          "name": "stdout",
          "text": [
            "z=30\n"
          ]
        }
      ]
    }
  ]
}