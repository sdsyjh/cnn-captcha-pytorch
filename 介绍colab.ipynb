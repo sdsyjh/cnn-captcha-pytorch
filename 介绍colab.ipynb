{
  "nbformat": 4,
  "nbformat_minor": 0,
  "metadata": {
    "colab": {
      "provenance": [],
      "gpuType": "T4",
      "authorship_tag": "ABX9TyO4IChJp+clfWbMmBPNYyTt",
      "include_colab_link": true
    },
    "kernelspec": {
      "name": "python3",
      "display_name": "Python 3"
    },
    "language_info": {
      "name": "python"
    },
    "accelerator": "GPU"
  },
  "cells": [
    {
      "cell_type": "markdown",
      "metadata": {
        "id": "view-in-github",
        "colab_type": "text"
      },
      "source": [
        "<a href=\"https://colab.research.google.com/github/sdsyjh/cnn-captcha-pytorch/blob/main/%E4%BB%8B%E7%BB%8Dcolab.ipynb\" target=\"_parent\"><img src=\"https://colab.research.google.com/assets/colab-badge.svg\" alt=\"Open In Colab\"/></a>"
      ]
    },
    {
      "cell_type": "code",
      "execution_count": null,
      "metadata": {
        "id": "VqJ4ax7xC8Nk"
      },
      "outputs": [],
      "source": [
        "x = 10\n",
        "y = 20\n",
        "z = x + y"
      ]
    },
    {
      "cell_type": "code",
      "source": [
        "print(f\"z={z}\")"
      ],
      "metadata": {
        "colab": {
          "base_uri": "https://localhost:8080/"
        },
        "id": "BkbUrnNaFiNP",
        "outputId": "f11553f6-93ea-4f3a-8d12-474a45460644",
        "collapsed": true
      },
      "execution_count": null,
      "outputs": [
        {
          "output_type": "stream",
          "name": "stdout",
          "text": [
            "z=30\n"
          ]
        }
      ]
    },
    {
      "cell_type": "code",
      "source": [
        "my_list = [[1, 2, 3, 4, 5], [6, 7, 8, 9, 10]]\n",
        "my_list"
      ],
      "metadata": {
        "id": "AXD_IRW1L-Dd",
        "outputId": "45a09aee-3cdc-4b8b-a6f1-3a70bc48b371",
        "colab": {
          "base_uri": "https://localhost:8080/"
        }
      },
      "execution_count": 5,
      "outputs": [
        {
          "output_type": "execute_result",
          "data": {
            "text/plain": [
              "[[1, 2, 3, 4, 5], [6, 7, 8, 9, 10]]"
            ]
          },
          "metadata": {},
          "execution_count": 5
        }
      ]
    },
    {
      "cell_type": "code",
      "source": [
        "import numpy as np\n",
        "np1 = np.random.rand(3, 4)\n",
        "print(np1)"
      ],
      "metadata": {
        "id": "qry3iVDTNxZl",
        "outputId": "7f571df0-627c-4065-905a-73f531cd022e",
        "colab": {
          "base_uri": "https://localhost:8080/"
        }
      },
      "execution_count": 7,
      "outputs": [
        {
          "output_type": "stream",
          "name": "stdout",
          "text": [
            "[[0.97858538 0.36866416 0.06407956 0.01505028]\n",
            " [0.68416288 0.96069399 0.95616604 0.14573879]\n",
            " [0.06142376 0.07593274 0.3698581  0.48071006]]\n"
          ]
        }
      ]
    },
    {
      "cell_type": "code",
      "source": [
        "import torch\n",
        "tensor_2d = torch.randn(3, 4)\n",
        "print(tensor_2d)"
      ],
      "metadata": {
        "id": "ff87tHbaOEmK",
        "outputId": "c4659b97-251e-40df-8775-32e98c906853",
        "colab": {
          "base_uri": "https://localhost:8080/"
        }
      },
      "execution_count": 10,
      "outputs": [
        {
          "output_type": "stream",
          "name": "stdout",
          "text": [
            "tensor([[ 0.1505, -1.3094, -0.3380,  2.0312],\n",
            "        [-0.9060, -0.3610,  1.5211, -0.5037],\n",
            "        [ 0.2603, -0.3415, -0.2595,  0.4819]])\n"
          ]
        }
      ]
    },
    {
      "cell_type": "code",
      "source": [
        "my_tensor = torch.tensor(np1)\n",
        "print(my_tensor)"
      ],
      "metadata": {
        "id": "FL8p1goVOzG2",
        "outputId": "c7aed2d8-cc18-4cbf-96d9-3926eddc63fb",
        "colab": {
          "base_uri": "https://localhost:8080/"
        }
      },
      "execution_count": 13,
      "outputs": [
        {
          "output_type": "stream",
          "name": "stdout",
          "text": [
            "tensor([[0.9786, 0.3687, 0.0641, 0.0151],\n",
            "        [0.6842, 0.9607, 0.9562, 0.1457],\n",
            "        [0.0614, 0.0759, 0.3699, 0.4807]], dtype=torch.float64)\n"
          ]
        }
      ]
    }
  ]
}